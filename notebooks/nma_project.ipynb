{
  "cells": [
    {
      "cell_type": "markdown",
      "metadata": {
        "colab_type": "text",
        "id": "view-in-github"
      },
      "source": [
        "<a href=\"https://colab.research.google.com/github/Mschaid/nma_dl_project/blob/main/notebooks/nma_project.ipynb\" target=\"_parent\"><img src=\"https://colab.research.google.com/assets/colab-badge.svg\" alt=\"Open In Colab\"/></a>"
      ]
    },
    {
      "cell_type": "code",
      "execution_count": 7,
      "metadata": {
        "id": "W-aYADtCXz1r"
      },
      "outputs": [],
      "source": [
        "import numpy as np\n",
        "import pandas as pd\n",
        "import torch\n",
        "\n",
        "from IPython.display import Image"
      ]
    },
    {
      "cell_type": "markdown",
      "metadata": {},
      "source": [
        "# Background"
      ]
    },
    {
      "cell_type": "markdown",
      "metadata": {},
      "source": [
        "**Revealing the multidimensional mental representations of natural objects underlying human similarity judgements**: [link](https://www.nature.com/articles/s41562-020-00951-3.epdf?sharing_token=nHVvIjL4RlwottzTvjgItNRgN0jAjWel9jnR3ZoTv0M2M6rn_U7HFAne1ZfilQzEBRHexV_lH_PgbXIY9yiNp7yXnn3qOHdywYiFVOWZQIy_pJjjNv1vFLYrZ6nmAuWmC3u_Qh81SlZMMBe4PI2qBw31vRsjHdk2XJntcS9fkMc%3D )\n",
        "\n",
        "**Human alignment of neural network representations**: [link](https://arxiv.org/abs/2211.01201)\n",
        "\n",
        "**What can 1.8 billion regressions tell us about the pressures shaping high-level visual representation in brains and machines?**: [link](https://www.biorxiv.org/content/10.1101/2022.03.28.485868v2)"
      ]
    },
    {
      "cell_type": "markdown",
      "metadata": {},
      "source": [
        "# Research questions\n",
        "- Do different kinds of neural network architectures better align with human behavioral representations? (e.g., [2])\n",
        "- Need better control for some models (see [3])\n",
        "- Can we improve the alignment between network and human representations? (i.e., learn a simple - linear transformation W as in [2])?\n",
        "- Can we replace W with a simple non-linear transformation (e.g., small NN) to further improve alignment?\n"
      ]
    },
    {
      "cell_type": "markdown",
      "metadata": {},
      "source": [
        "## Data resources: \n",
        "### [thing](https://osf.io/jum2f/)\n",
        "\n",
        "### [odd one out](https://osf.io/f5rn6/)\n"
      ]
    },
    {
      "cell_type": "code",
      "execution_count": 10,
      "metadata": {},
      "outputs": [
        {
          "data": {
            "text/html": [
              "<img src=\"https://github.com/Mschaid/nma_dl_project/blob/main/images/Screenshot%202023-07-13%20at%208.40.25%20AM.jpg?raw=true\"/>"
            ],
            "text/plain": [
              "<IPython.core.display.Image object>"
            ]
          },
          "execution_count": 10,
          "metadata": {},
          "output_type": "execute_result"
        }
      ],
      "source": [
        "Image(url = \"https://github.com/Mschaid/nma_dl_project/blob/main/images/Screenshot%202023-07-13%20at%208.40.25%20AM.jpg?raw=true\")"
      ]
    },
    {
      "cell_type": "markdown",
      "metadata": {},
      "source": [
        "From the second to last layer (negotiable) we et the 1xn (image x number of neurons) and contrauct an imagex neurons matrix\n",
        "\n",
        "Calculate the distance between between images in representational space \n",
        "\tassume the closer the images the more correlated they are\n",
        "\n",
        "we label the decision correct or wrong based on what humans chose \n",
        "\n",
        "The goal is to find a W ( in the image below) that complies with human decision\n",
        "note on the image : while visually 3 seems furter away 2 is circled(squared) just for the sake of example\n"
      ]
    },
    {
      "cell_type": "markdown",
      "metadata": {},
      "source": []
    }
  ],
  "metadata": {
    "colab": {
      "authorship_tag": "ABX9TyNwGwu71vb0Gzhz9PCt0kIb",
      "include_colab_link": true,
      "provenance": []
    },
    "kernelspec": {
      "display_name": "Python 3",
      "name": "python3"
    },
    "language_info": {
      "codemirror_mode": {
        "name": "ipython",
        "version": 3
      },
      "file_extension": ".py",
      "mimetype": "text/x-python",
      "name": "python",
      "nbconvert_exporter": "python",
      "pygments_lexer": "ipython3",
      "version": "3.11.0"
    }
  },
  "nbformat": 4,
  "nbformat_minor": 0
}
