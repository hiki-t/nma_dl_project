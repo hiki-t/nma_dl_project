{
  "cells": [
    {
      "cell_type": "markdown",
      "metadata": {
        "colab_type": "text",
        "id": "view-in-github"
      },
      "source": [
        "<a href=\"https://colab.research.google.com/github/Mschaid/nma_dl_project/blob/main/notebooks/nma_project.ipynb\" target=\"_parent\"><img src=\"https://colab.research.google.com/assets/colab-badge.svg\" alt=\"Open In Colab\"/></a>"
      ]
    },
    {
      "cell_type": "markdown",
      "metadata": {},
      "source": [
        "### Dependencies\n",
        "[things vision repo](https://github.com/ViCCo-Group/THINGSvision)"
      ]
    },
    {
      "cell_type": "code",
      "execution_count": null,
      "metadata": {},
      "outputs": [],
      "source": [
        "\n",
        "$ pip install --upgrade thingsvision\n",
        "$ pip install git+https://github.com/openai/CLIP.git"
      ]
    },
    {
      "cell_type": "code",
      "execution_count": 7,
      "metadata": {
        "id": "W-aYADtCXz1r"
      },
      "outputs": [],
      "source": [
        "import numpy as np\n",
        "import pandas as pd\n",
        "import torch\n",
        "\n",
        "from IPython.display import Image"
      ]
    },
    {
      "cell_type": "markdown",
      "metadata": {},
      "source": [
        "# Background"
      ]
    },
    {
      "cell_type": "markdown",
      "metadata": {},
      "source": [
        "**Revealing the multidimensional mental representations of natural objects underlying human similarity judgements**: [link](https://www.nature.com/articles/s41562-020-00951-3.epdf?sharing_token=nHVvIjL4RlwottzTvjgItNRgN0jAjWel9jnR3ZoTv0M2M6rn_U7HFAne1ZfilQzEBRHexV_lH_PgbXIY9yiNp7yXnn3qOHdywYiFVOWZQIy_pJjjNv1vFLYrZ6nmAuWmC3u_Qh81SlZMMBe4PI2qBw31vRsjHdk2XJntcS9fkMc%3D )\n",
        "\n",
        "**Human alignment of neural network representations**: [link](https://arxiv.org/abs/2211.01201)\n",
        "\n",
        "**What can 1.8 billion regressions tell us about the pressures shaping high-level visual representation in brains and machines?**: [link](https://www.biorxiv.org/content/10.1101/2022.03.28.485868v2)"
      ]
    },
    {
      "cell_type": "markdown",
      "metadata": {},
      "source": [
        "# Research questions\n",
        "- Do different kinds of neural network architectures better align with human behavioral representations? (e.g., [2])\n",
        "- Need better control for some models (see [3])\n",
        "- Can we improve the alignment between network and human representations? (i.e., learn a simple - linear transformation W as in [2])?\n",
        "- Can we replace W with a simple non-linear transformation (e.g., small NN) to further improve alignment?\n"
      ]
    },
    {
      "cell_type": "markdown",
      "metadata": {},
      "source": [
        "From the second to last layer (negotiable) we get the 1xn (image x number of neurons) and construct an image x neurons matrix\n",
        "\n",
        "Calculate the distance between between images in representational space \n",
        "\tassume the closer the images the more correlated they are\n",
        "\n",
        "we label the decision correct or wrong based on what humans chose \n",
        "\n",
        "The goal is to find a W ( in the image below) that complies with human decision\n",
        "note on the image : while visually 3 seems furter away 2 is circled(squared) just for the sake of example\n"
      ]
    },
    {
      "cell_type": "code",
      "execution_count": 10,
      "metadata": {},
      "outputs": [
        {
          "data": {
            "text/html": [
              "<img src=\"https://github.com/Mschaid/nma_dl_project/blob/main/images/Screenshot%202023-07-13%20at%208.40.25%20AM.jpg?raw=true\"/>"
            ],
            "text/plain": [
              "<IPython.core.display.Image object>"
            ]
          },
          "execution_count": 10,
          "metadata": {},
          "output_type": "execute_result"
        }
      ],
      "source": [
        "Image(url = \"https://github.com/Mschaid/nma_dl_project/blob/main/images/Screenshot%202023-07-13%20at%208.40.25%20AM.jpg?raw=true\")"
      ]
    },
    {
      "cell_type": "markdown",
      "metadata": {},
      "source": [
        "## Data resources: \n",
        "### [thing](https://osf.io/jum2f/)\n",
        "\n",
        "### [odd one out](https://osf.io/f5rn6/)\n"
      ]
    },
    {
      "cell_type": "markdown",
      "metadata": {},
      "source": [
        "#### Triples data from: [triples data csv](https://osf.io/h2smy)"
      ]
    },
    {
      "cell_type": "code",
      "execution_count": 16,
      "metadata": {},
      "outputs": [
        {
          "data": {
            "text/html": [
              "<div>\n",
              "<style scoped>\n",
              "    .dataframe tbody tr th:only-of-type {\n",
              "        vertical-align: middle;\n",
              "    }\n",
              "\n",
              "    .dataframe tbody tr th {\n",
              "        vertical-align: top;\n",
              "    }\n",
              "\n",
              "    .dataframe thead th {\n",
              "        text-align: right;\n",
              "    }\n",
              "</style>\n",
              "<table border=\"1\" class=\"dataframe\">\n",
              "  <thead>\n",
              "    <tr style=\"text-align: right;\">\n",
              "      <th></th>\n",
              "      <th>image1</th>\n",
              "      <th>image2</th>\n",
              "      <th>image3</th>\n",
              "      <th>choice</th>\n",
              "      <th>RT</th>\n",
              "      <th>noise_ceiling</th>\n",
              "      <th>subject_id</th>\n",
              "      <th>HIT_nr</th>\n",
              "      <th>trial_nr</th>\n",
              "      <th>age</th>\n",
              "      <th>gender</th>\n",
              "      <th>date</th>\n",
              "      <th>time</th>\n",
              "      <th>dataset</th>\n",
              "    </tr>\n",
              "  </thead>\n",
              "  <tbody>\n",
              "    <tr>\n",
              "      <th>0</th>\n",
              "      <td>1245</td>\n",
              "      <td>1050</td>\n",
              "      <td>494</td>\n",
              "      <td>3</td>\n",
              "      <td>14457</td>\n",
              "      <td>0</td>\n",
              "      <td>BMWLG5ZY79VLA</td>\n",
              "      <td>1</td>\n",
              "      <td>1</td>\n",
              "      <td>NaN</td>\n",
              "      <td>other</td>\n",
              "      <td>2018-02-05</td>\n",
              "      <td>09:31:16</td>\n",
              "      <td>1.0</td>\n",
              "    </tr>\n",
              "    <tr>\n",
              "      <th>1</th>\n",
              "      <td>888</td>\n",
              "      <td>1788</td>\n",
              "      <td>1250</td>\n",
              "      <td>3</td>\n",
              "      <td>5043</td>\n",
              "      <td>0</td>\n",
              "      <td>BMWLG5ZY79VLA</td>\n",
              "      <td>1</td>\n",
              "      <td>2</td>\n",
              "      <td>NaN</td>\n",
              "      <td>other</td>\n",
              "      <td>2018-02-05</td>\n",
              "      <td>09:31:16</td>\n",
              "      <td>1.0</td>\n",
              "    </tr>\n",
              "    <tr>\n",
              "      <th>2</th>\n",
              "      <td>1256</td>\n",
              "      <td>734</td>\n",
              "      <td>946</td>\n",
              "      <td>2</td>\n",
              "      <td>6605</td>\n",
              "      <td>0</td>\n",
              "      <td>BMWLG5ZY79VLA</td>\n",
              "      <td>1</td>\n",
              "      <td>3</td>\n",
              "      <td>NaN</td>\n",
              "      <td>other</td>\n",
              "      <td>2018-02-05</td>\n",
              "      <td>09:31:16</td>\n",
              "      <td>1.0</td>\n",
              "    </tr>\n",
              "    <tr>\n",
              "      <th>3</th>\n",
              "      <td>1069</td>\n",
              "      <td>1037</td>\n",
              "      <td>953</td>\n",
              "      <td>1</td>\n",
              "      <td>6177</td>\n",
              "      <td>0</td>\n",
              "      <td>BMWLG5ZY79VLA</td>\n",
              "      <td>1</td>\n",
              "      <td>4</td>\n",
              "      <td>NaN</td>\n",
              "      <td>other</td>\n",
              "      <td>2018-02-05</td>\n",
              "      <td>09:31:16</td>\n",
              "      <td>1.0</td>\n",
              "    </tr>\n",
              "    <tr>\n",
              "      <th>4</th>\n",
              "      <td>1693</td>\n",
              "      <td>803</td>\n",
              "      <td>963</td>\n",
              "      <td>3</td>\n",
              "      <td>2327</td>\n",
              "      <td>0</td>\n",
              "      <td>BMWLG5ZY79VLA</td>\n",
              "      <td>1</td>\n",
              "      <td>5</td>\n",
              "      <td>NaN</td>\n",
              "      <td>other</td>\n",
              "      <td>2018-02-05</td>\n",
              "      <td>09:31:16</td>\n",
              "      <td>1.0</td>\n",
              "    </tr>\n",
              "  </tbody>\n",
              "</table>\n",
              "</div>"
            ],
            "text/plain": [
              "   image1  image2  image3  choice     RT  noise_ceiling     subject_id  \\\n",
              "0    1245    1050     494       3  14457              0  BMWLG5ZY79VLA   \n",
              "1     888    1788    1250       3   5043              0  BMWLG5ZY79VLA   \n",
              "2    1256     734     946       2   6605              0  BMWLG5ZY79VLA   \n",
              "3    1069    1037     953       1   6177              0  BMWLG5ZY79VLA   \n",
              "4    1693     803     963       3   2327              0  BMWLG5ZY79VLA   \n",
              "\n",
              "   HIT_nr  trial_nr  age gender        date      time  dataset  \n",
              "0       1         1  NaN  other  2018-02-05  09:31:16      1.0  \n",
              "1       1         2  NaN  other  2018-02-05  09:31:16      1.0  \n",
              "2       1         3  NaN  other  2018-02-05  09:31:16      1.0  \n",
              "3       1         4  NaN  other  2018-02-05  09:31:16      1.0  \n",
              "4       1         5  NaN  other  2018-02-05  09:31:16      1.0  "
            ]
          },
          "execution_count": 16,
          "metadata": {},
          "output_type": "execute_result"
        }
      ],
      "source": [
        "data = pd.read_csv('https://osf.io/download/h2smy/', delim_whitespace=True)\n",
        "data.head()"
      ]
    },
    {
      "cell_type": "code",
      "execution_count": 13,
      "metadata": {},
      "outputs": [
        {
          "data": {
            "text/html": [
              "<div>\n",
              "<style scoped>\n",
              "    .dataframe tbody tr th:only-of-type {\n",
              "        vertical-align: middle;\n",
              "    }\n",
              "\n",
              "    .dataframe tbody tr th {\n",
              "        vertical-align: top;\n",
              "    }\n",
              "\n",
              "    .dataframe thead th {\n",
              "        text-align: right;\n",
              "    }\n",
              "</style>\n",
              "<table border=\"1\" class=\"dataframe\">\n",
              "  <thead>\n",
              "    <tr style=\"text-align: right;\">\n",
              "      <th></th>\n",
              "      <th>image1</th>\n",
              "      <th>image2</th>\n",
              "      <th>image3</th>\n",
              "      <th>choice</th>\n",
              "      <th>RT</th>\n",
              "      <th>noise_ceiling</th>\n",
              "      <th>HIT_nr</th>\n",
              "      <th>trial_nr</th>\n",
              "      <th>age</th>\n",
              "      <th>dataset</th>\n",
              "    </tr>\n",
              "  </thead>\n",
              "  <tbody>\n",
              "    <tr>\n",
              "      <th>count</th>\n",
              "      <td>4.699160e+06</td>\n",
              "      <td>4.699160e+06</td>\n",
              "      <td>4.699160e+06</td>\n",
              "      <td>4.699160e+06</td>\n",
              "      <td>4.699160e+06</td>\n",
              "      <td>4.699160e+06</td>\n",
              "      <td>4.699160e+06</td>\n",
              "      <td>4.699160e+06</td>\n",
              "      <td>3.259600e+06</td>\n",
              "      <td>4.036680e+06</td>\n",
              "    </tr>\n",
              "    <tr>\n",
              "      <th>mean</th>\n",
              "      <td>9.272810e+02</td>\n",
              "      <td>9.277512e+02</td>\n",
              "      <td>9.273038e+02</td>\n",
              "      <td>1.998373e+00</td>\n",
              "      <td>4.440737e+03</td>\n",
              "      <td>5.755731e-02</td>\n",
              "      <td>1.192657e+05</td>\n",
              "      <td>1.050000e+01</td>\n",
              "      <td>4.588138e+01</td>\n",
              "      <td>3.466101e+00</td>\n",
              "    </tr>\n",
              "    <tr>\n",
              "      <th>std</th>\n",
              "      <td>5.351330e+02</td>\n",
              "      <td>5.352359e+02</td>\n",
              "      <td>5.353955e+02</td>\n",
              "      <td>8.125337e-01</td>\n",
              "      <td>1.012596e+04</td>\n",
              "      <td>3.629220e-01</td>\n",
              "      <td>6.952256e+04</td>\n",
              "      <td>5.766282e+00</td>\n",
              "      <td>9.342258e+01</td>\n",
              "      <td>1.127249e+00</td>\n",
              "    </tr>\n",
              "    <tr>\n",
              "      <th>min</th>\n",
              "      <td>1.000000e+00</td>\n",
              "      <td>1.000000e+00</td>\n",
              "      <td>1.000000e+00</td>\n",
              "      <td>1.000000e+00</td>\n",
              "      <td>-3.601371e+06</td>\n",
              "      <td>0.000000e+00</td>\n",
              "      <td>1.000000e+00</td>\n",
              "      <td>1.000000e+00</td>\n",
              "      <td>0.000000e+00</td>\n",
              "      <td>1.000000e+00</td>\n",
              "    </tr>\n",
              "    <tr>\n",
              "      <th>25%</th>\n",
              "      <td>4.640000e+02</td>\n",
              "      <td>4.640000e+02</td>\n",
              "      <td>4.640000e+02</td>\n",
              "      <td>1.000000e+00</td>\n",
              "      <td>1.984000e+03</td>\n",
              "      <td>0.000000e+00</td>\n",
              "      <td>5.876100e+04</td>\n",
              "      <td>5.750000e+00</td>\n",
              "      <td>3.100000e+01</td>\n",
              "      <td>4.000000e+00</td>\n",
              "    </tr>\n",
              "    <tr>\n",
              "      <th>50%</th>\n",
              "      <td>9.270000e+02</td>\n",
              "      <td>9.280000e+02</td>\n",
              "      <td>9.270000e+02</td>\n",
              "      <td>2.000000e+00</td>\n",
              "      <td>2.846000e+03</td>\n",
              "      <td>0.000000e+00</td>\n",
              "      <td>1.186815e+05</td>\n",
              "      <td>1.050000e+01</td>\n",
              "      <td>3.900000e+01</td>\n",
              "      <td>4.000000e+00</td>\n",
              "    </tr>\n",
              "    <tr>\n",
              "      <th>75%</th>\n",
              "      <td>1.390000e+03</td>\n",
              "      <td>1.391000e+03</td>\n",
              "      <td>1.391000e+03</td>\n",
              "      <td>3.000000e+00</td>\n",
              "      <td>4.530000e+03</td>\n",
              "      <td>0.000000e+00</td>\n",
              "      <td>1.797530e+05</td>\n",
              "      <td>1.525000e+01</td>\n",
              "      <td>5.200000e+01</td>\n",
              "      <td>4.000000e+00</td>\n",
              "    </tr>\n",
              "    <tr>\n",
              "      <th>max</th>\n",
              "      <td>1.854000e+03</td>\n",
              "      <td>1.854000e+03</td>\n",
              "      <td>1.854000e+03</td>\n",
              "      <td>3.000000e+00</td>\n",
              "      <td>1.511196e+06</td>\n",
              "      <td>3.000000e+00</td>\n",
              "      <td>2.396470e+05</td>\n",
              "      <td>2.000000e+01</td>\n",
              "      <td>7.140000e+03</td>\n",
              "      <td>4.000000e+00</td>\n",
              "    </tr>\n",
              "  </tbody>\n",
              "</table>\n",
              "</div>"
            ],
            "text/plain": [
              "             image1        image2        image3        choice            RT  \\\n",
              "count  4.699160e+06  4.699160e+06  4.699160e+06  4.699160e+06  4.699160e+06   \n",
              "mean   9.272810e+02  9.277512e+02  9.273038e+02  1.998373e+00  4.440737e+03   \n",
              "std    5.351330e+02  5.352359e+02  5.353955e+02  8.125337e-01  1.012596e+04   \n",
              "min    1.000000e+00  1.000000e+00  1.000000e+00  1.000000e+00 -3.601371e+06   \n",
              "25%    4.640000e+02  4.640000e+02  4.640000e+02  1.000000e+00  1.984000e+03   \n",
              "50%    9.270000e+02  9.280000e+02  9.270000e+02  2.000000e+00  2.846000e+03   \n",
              "75%    1.390000e+03  1.391000e+03  1.391000e+03  3.000000e+00  4.530000e+03   \n",
              "max    1.854000e+03  1.854000e+03  1.854000e+03  3.000000e+00  1.511196e+06   \n",
              "\n",
              "       noise_ceiling        HIT_nr      trial_nr           age       dataset  \n",
              "count   4.699160e+06  4.699160e+06  4.699160e+06  3.259600e+06  4.036680e+06  \n",
              "mean    5.755731e-02  1.192657e+05  1.050000e+01  4.588138e+01  3.466101e+00  \n",
              "std     3.629220e-01  6.952256e+04  5.766282e+00  9.342258e+01  1.127249e+00  \n",
              "min     0.000000e+00  1.000000e+00  1.000000e+00  0.000000e+00  1.000000e+00  \n",
              "25%     0.000000e+00  5.876100e+04  5.750000e+00  3.100000e+01  4.000000e+00  \n",
              "50%     0.000000e+00  1.186815e+05  1.050000e+01  3.900000e+01  4.000000e+00  \n",
              "75%     0.000000e+00  1.797530e+05  1.525000e+01  5.200000e+01  4.000000e+00  \n",
              "max     3.000000e+00  2.396470e+05  2.000000e+01  7.140000e+03  4.000000e+00  "
            ]
          },
          "execution_count": 13,
          "metadata": {},
          "output_type": "execute_result"
        }
      ],
      "source": [
        "data.describe()"
      ]
    },
    {
      "cell_type": "code",
      "execution_count": 14,
      "metadata": {},
      "outputs": [
        {
          "data": {
            "text/plain": [
              "image1                 0\n",
              "image2                 0\n",
              "image3                 0\n",
              "choice                 0\n",
              "RT                     0\n",
              "noise_ceiling          0\n",
              "subject_id             0\n",
              "HIT_nr                 0\n",
              "trial_nr               0\n",
              "age              1439560\n",
              "gender                 0\n",
              "date                   0\n",
              "time                   0\n",
              "dataset           662480\n",
              "dtype: int64"
            ]
          },
          "execution_count": 14,
          "metadata": {},
          "output_type": "execute_result"
        }
      ],
      "source": [
        "data.isnull().sum()"
      ]
    },
    {
      "cell_type": "markdown",
      "metadata": {},
      "source": []
    }
  ],
  "metadata": {
    "colab": {
      "authorship_tag": "ABX9TyNwGwu71vb0Gzhz9PCt0kIb",
      "include_colab_link": true,
      "provenance": []
    },
    "kernelspec": {
      "display_name": "Python 3",
      "name": "python3"
    },
    "language_info": {
      "codemirror_mode": {
        "name": "ipython",
        "version": 3
      },
      "file_extension": ".py",
      "mimetype": "text/x-python",
      "name": "python",
      "nbconvert_exporter": "python",
      "pygments_lexer": "ipython3",
      "version": "3.11.0"
    }
  },
  "nbformat": 4,
  "nbformat_minor": 0
}
